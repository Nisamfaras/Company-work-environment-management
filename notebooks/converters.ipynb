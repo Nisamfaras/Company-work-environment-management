{
 "cells": [
  {
   "cell_type": "code",
   "execution_count": 42,
   "id": "883856fd",
   "metadata": {},
   "outputs": [
    {
     "data": {
      "text/plain": [
       "33"
      ]
     },
     "execution_count": 42,
     "metadata": {},
     "output_type": "execute_result"
    }
   ],
   "source": [
    "x = {'landmarks': [{'x': 0.5454695820808411, 'y': 0.6748321652412415, 'z': -0.7199423313140869, 'visibility': 0.99909907579422}, {'x': 0.5473164916038513, 'y': 0.6220959424972534, 'z': -0.6980997920036316, 'visibility': 0.9982926845550537}, {'x': 0.5515623688697815, 'y': 0.6206902265548706, 'z': -0.6980924606323242, 'visibility': 0.997909665107727}, {'x': 0.5557631254196167, 'y': 0.6185289025306702, 'z': -0.6980994343757629, 'visibility': 0.9973894357681274}, {'x': 0.5257865190505981, 'y': 0.6207806468009949, 'z': -0.7406908869743347, 'visibility': 0.9990617036819458}, {'x': 0.5132017731666565, 'y': 0.6181095838546753, 'z': -0.7406903505325317, 'visibility': 0.9991831183433533}, {'x': 0.500263512134552, 'y': 0.614709198474884, 'z': -0.7410531640052795, 'visibility': 0.9991683959960938}, {'x': 0.5398885607719421, 'y': 0.6278904676437378, 'z': -0.5105078816413879, 'visibility': 0.9978160262107849}, {'x': 0.4619547724723816, 'y': 0.6226251125335693, 'z': -0.6971204876899719, 'visibility': 0.9996634721755981}, {'x': 0.5430112481117249, 'y': 0.7263548374176025, 'z': -0.6406038999557495, 'visibility': 0.9987558722496033}, {'x': 0.5178163051605225, 'y': 0.7259326577186584, 'z': -0.6942938566207886, 'visibility': 0.9995691180229187}, {'x': 0.5578140020370483, 'y': 0.8343484401702881, 'z': -0.3178628087043762, 'visibility': 0.9890120029449463}, {'x': 0.3234836459159851, 'y': 0.8491232395172119, 'z': -0.5962515473365784, 'visibility': 0.995445191860199}, {'x': 0.6168203949928284, 'y': 1.0795156955718994, 'z': -0.09192551672458649, 'visibility': 0.19562563300132751}, {'x': 0.25853151082992554, 'y': 1.2304266691207886, 'z': -0.5265306830406189, 'visibility': 0.6719987988471985}, {'x': 0.6316277980804443, 'y': 1.294083833694458, 'z': -0.05329129844903946, 'visibility': 0.11209479719400406}, {'x': 0.3096488118171692, 'y': 1.4799680709838867, 'z': -0.5408157110214233, 'visibility': 0.21171773970127106}, {'x': 0.6532174348831177, 'y': 1.3665655851364136, 'z': -0.05721629783511162, 'visibility': 0.12234904617071152}, {'x': 0.3093355596065521, 'y': 1.573687195777893, 'z': -0.5664710402488708, 'visibility': 0.198204904794693}, {'x': 0.6420430541038513, 'y': 1.3811053037643433, 'z': -0.08566587418317795, 'visibility': 0.15820267796516418}, {'x': 0.33128952980041504, 'y': 1.556300163269043, 'z': -0.6115931272506714, 'visibility': 0.2556341886520386}, {'x': 0.6234787106513977, 'y': 1.3598535060882568, 'z': -0.06904463469982147, 'visibility': 0.16368260979652405}, {'x': 0.3348403573036194, 'y': 1.517934799194336, 'z': -0.5585611462593079, 'visibility': 0.24491675198078156}, {'x': 0.5063937902450562, 'y': 1.4139409065246582, 'z': 0.035775117576122284, 'visibility': 0.005176164675503969}, {'x': 0.34810250997543335, 'y': 1.4274227619171143, 'z': -0.034507159143686295, 'visibility': 0.006485120393335819}, {'x': 0.5042237043380737, 'y': 1.8846806287765503, 'z': 0.11370231211185455, 'visibility': 0.01315288431942463}, {'x': 0.36905908584594727, 'y': 1.9186561107635498, 'z': 0.015820426866412163, 'visibility': 0.01378056313842535}, {'x': 0.4914855360984802, 'y': 2.3103840351104736, 'z': 0.4601244330406189, 'visibility': 0.001576005364768207}, {'x': 0.3653518557548523, 'y': 2.3146400451660156, 'z': 0.2707299590110779, 'visibility': 0.0012553343549370766}, {'x': 0.48404645919799805, 'y': 2.3743553161621094, 'z': 0.4768470227718353, 'visibility': 0.0010925508104264736}, {'x': 0.35052287578582764, 'y': 2.3798959255218506, 'z': 0.2834347188472748, 'visibility': 0.0007594606140628457}, {'x': 0.5156856775283813, 'y': 2.4439892768859863, 'z': 0.23236814141273499, 'visibility': 0.0035022960510104895}, {'x': 0.4108780026435852, 'y': 2.4339187145233154, 'z': -0.024153608828783035, 'visibility': 0.0028416551649570465}]}\n",
    "len(x['landmarks'])"
   ]
  },
  {
   "cell_type": "code",
   "execution_count": 21,
   "id": "1e77ccfd",
   "metadata": {},
   "outputs": [
    {
     "data": {
      "text/plain": [
       "{'x': 0.5454695820808411,\n",
       " 'y': 0.6748321652412415,\n",
       " 'z': -0.7199423313140869,\n",
       " 'visibility': 0.99909907579422}"
      ]
     },
     "execution_count": 21,
     "metadata": {},
     "output_type": "execute_result"
    }
   ],
   "source": [
    "x['landmarks'][0]"
   ]
  },
  {
   "cell_type": "code",
   "execution_count": 61,
   "id": "c9a583dc",
   "metadata": {},
   "outputs": [],
   "source": [
    "import pandas as pd\n",
    "pdf = pd.DataFrame()"
   ]
  },
  {
   "cell_type": "code",
   "execution_count": 62,
   "id": "aa3c3a34",
   "metadata": {},
   "outputs": [
    {
     "name": "stderr",
     "output_type": "stream",
     "text": [
      "/tmp/ipykernel_32829/3288110361.py:3: PerformanceWarning: DataFrame is highly fragmented.  This is usually the result of calling `frame.insert` many times, which has poor performance.  Consider joining all columns at once using pd.concat(axis=1) instead. To get a de-fragmented frame, use `newframe = frame.copy()`\n",
      "  pdf[f'x{y+i}'] = [x['landmarks'][i]['x']]\n",
      "/tmp/ipykernel_32829/3288110361.py:4: PerformanceWarning: DataFrame is highly fragmented.  This is usually the result of calling `frame.insert` many times, which has poor performance.  Consider joining all columns at once using pd.concat(axis=1) instead. To get a de-fragmented frame, use `newframe = frame.copy()`\n",
      "  pdf[f'y{y+i}'] = [x['landmarks'][i]['y']]\n",
      "/tmp/ipykernel_32829/3288110361.py:5: PerformanceWarning: DataFrame is highly fragmented.  This is usually the result of calling `frame.insert` many times, which has poor performance.  Consider joining all columns at once using pd.concat(axis=1) instead. To get a de-fragmented frame, use `newframe = frame.copy()`\n",
      "  pdf[f'z{y+i}'] = [x['landmarks'][i]['z']]\n",
      "/tmp/ipykernel_32829/3288110361.py:6: PerformanceWarning: DataFrame is highly fragmented.  This is usually the result of calling `frame.insert` many times, which has poor performance.  Consider joining all columns at once using pd.concat(axis=1) instead. To get a de-fragmented frame, use `newframe = frame.copy()`\n",
      "  pdf[f'v{y+i}'] = [x['landmarks'][i]['visibility']]\n",
      "/tmp/ipykernel_32829/3288110361.py:3: PerformanceWarning: DataFrame is highly fragmented.  This is usually the result of calling `frame.insert` many times, which has poor performance.  Consider joining all columns at once using pd.concat(axis=1) instead. To get a de-fragmented frame, use `newframe = frame.copy()`\n",
      "  pdf[f'x{y+i}'] = [x['landmarks'][i]['x']]\n",
      "/tmp/ipykernel_32829/3288110361.py:4: PerformanceWarning: DataFrame is highly fragmented.  This is usually the result of calling `frame.insert` many times, which has poor performance.  Consider joining all columns at once using pd.concat(axis=1) instead. To get a de-fragmented frame, use `newframe = frame.copy()`\n",
      "  pdf[f'y{y+i}'] = [x['landmarks'][i]['y']]\n",
      "/tmp/ipykernel_32829/3288110361.py:5: PerformanceWarning: DataFrame is highly fragmented.  This is usually the result of calling `frame.insert` many times, which has poor performance.  Consider joining all columns at once using pd.concat(axis=1) instead. To get a de-fragmented frame, use `newframe = frame.copy()`\n",
      "  pdf[f'z{y+i}'] = [x['landmarks'][i]['z']]\n",
      "/tmp/ipykernel_32829/3288110361.py:6: PerformanceWarning: DataFrame is highly fragmented.  This is usually the result of calling `frame.insert` many times, which has poor performance.  Consider joining all columns at once using pd.concat(axis=1) instead. To get a de-fragmented frame, use `newframe = frame.copy()`\n",
      "  pdf[f'v{y+i}'] = [x['landmarks'][i]['visibility']]\n",
      "/tmp/ipykernel_32829/3288110361.py:3: PerformanceWarning: DataFrame is highly fragmented.  This is usually the result of calling `frame.insert` many times, which has poor performance.  Consider joining all columns at once using pd.concat(axis=1) instead. To get a de-fragmented frame, use `newframe = frame.copy()`\n",
      "  pdf[f'x{y+i}'] = [x['landmarks'][i]['x']]\n",
      "/tmp/ipykernel_32829/3288110361.py:4: PerformanceWarning: DataFrame is highly fragmented.  This is usually the result of calling `frame.insert` many times, which has poor performance.  Consider joining all columns at once using pd.concat(axis=1) instead. To get a de-fragmented frame, use `newframe = frame.copy()`\n",
      "  pdf[f'y{y+i}'] = [x['landmarks'][i]['y']]\n",
      "/tmp/ipykernel_32829/3288110361.py:5: PerformanceWarning: DataFrame is highly fragmented.  This is usually the result of calling `frame.insert` many times, which has poor performance.  Consider joining all columns at once using pd.concat(axis=1) instead. To get a de-fragmented frame, use `newframe = frame.copy()`\n",
      "  pdf[f'z{y+i}'] = [x['landmarks'][i]['z']]\n",
      "/tmp/ipykernel_32829/3288110361.py:6: PerformanceWarning: DataFrame is highly fragmented.  This is usually the result of calling `frame.insert` many times, which has poor performance.  Consider joining all columns at once using pd.concat(axis=1) instead. To get a de-fragmented frame, use `newframe = frame.copy()`\n",
      "  pdf[f'v{y+i}'] = [x['landmarks'][i]['visibility']]\n",
      "/tmp/ipykernel_32829/3288110361.py:3: PerformanceWarning: DataFrame is highly fragmented.  This is usually the result of calling `frame.insert` many times, which has poor performance.  Consider joining all columns at once using pd.concat(axis=1) instead. To get a de-fragmented frame, use `newframe = frame.copy()`\n",
      "  pdf[f'x{y+i}'] = [x['landmarks'][i]['x']]\n",
      "/tmp/ipykernel_32829/3288110361.py:4: PerformanceWarning: DataFrame is highly fragmented.  This is usually the result of calling `frame.insert` many times, which has poor performance.  Consider joining all columns at once using pd.concat(axis=1) instead. To get a de-fragmented frame, use `newframe = frame.copy()`\n",
      "  pdf[f'y{y+i}'] = [x['landmarks'][i]['y']]\n",
      "/tmp/ipykernel_32829/3288110361.py:5: PerformanceWarning: DataFrame is highly fragmented.  This is usually the result of calling `frame.insert` many times, which has poor performance.  Consider joining all columns at once using pd.concat(axis=1) instead. To get a de-fragmented frame, use `newframe = frame.copy()`\n",
      "  pdf[f'z{y+i}'] = [x['landmarks'][i]['z']]\n",
      "/tmp/ipykernel_32829/3288110361.py:6: PerformanceWarning: DataFrame is highly fragmented.  This is usually the result of calling `frame.insert` many times, which has poor performance.  Consider joining all columns at once using pd.concat(axis=1) instead. To get a de-fragmented frame, use `newframe = frame.copy()`\n",
      "  pdf[f'v{y+i}'] = [x['landmarks'][i]['visibility']]\n",
      "/tmp/ipykernel_32829/3288110361.py:3: PerformanceWarning: DataFrame is highly fragmented.  This is usually the result of calling `frame.insert` many times, which has poor performance.  Consider joining all columns at once using pd.concat(axis=1) instead. To get a de-fragmented frame, use `newframe = frame.copy()`\n",
      "  pdf[f'x{y+i}'] = [x['landmarks'][i]['x']]\n",
      "/tmp/ipykernel_32829/3288110361.py:4: PerformanceWarning: DataFrame is highly fragmented.  This is usually the result of calling `frame.insert` many times, which has poor performance.  Consider joining all columns at once using pd.concat(axis=1) instead. To get a de-fragmented frame, use `newframe = frame.copy()`\n",
      "  pdf[f'y{y+i}'] = [x['landmarks'][i]['y']]\n",
      "/tmp/ipykernel_32829/3288110361.py:5: PerformanceWarning: DataFrame is highly fragmented.  This is usually the result of calling `frame.insert` many times, which has poor performance.  Consider joining all columns at once using pd.concat(axis=1) instead. To get a de-fragmented frame, use `newframe = frame.copy()`\n",
      "  pdf[f'z{y+i}'] = [x['landmarks'][i]['z']]\n",
      "/tmp/ipykernel_32829/3288110361.py:6: PerformanceWarning: DataFrame is highly fragmented.  This is usually the result of calling `frame.insert` many times, which has poor performance.  Consider joining all columns at once using pd.concat(axis=1) instead. To get a de-fragmented frame, use `newframe = frame.copy()`\n",
      "  pdf[f'v{y+i}'] = [x['landmarks'][i]['visibility']]\n",
      "/tmp/ipykernel_32829/3288110361.py:3: PerformanceWarning: DataFrame is highly fragmented.  This is usually the result of calling `frame.insert` many times, which has poor performance.  Consider joining all columns at once using pd.concat(axis=1) instead. To get a de-fragmented frame, use `newframe = frame.copy()`\n",
      "  pdf[f'x{y+i}'] = [x['landmarks'][i]['x']]\n",
      "/tmp/ipykernel_32829/3288110361.py:4: PerformanceWarning: DataFrame is highly fragmented.  This is usually the result of calling `frame.insert` many times, which has poor performance.  Consider joining all columns at once using pd.concat(axis=1) instead. To get a de-fragmented frame, use `newframe = frame.copy()`\n",
      "  pdf[f'y{y+i}'] = [x['landmarks'][i]['y']]\n",
      "/tmp/ipykernel_32829/3288110361.py:5: PerformanceWarning: DataFrame is highly fragmented.  This is usually the result of calling `frame.insert` many times, which has poor performance.  Consider joining all columns at once using pd.concat(axis=1) instead. To get a de-fragmented frame, use `newframe = frame.copy()`\n",
      "  pdf[f'z{y+i}'] = [x['landmarks'][i]['z']]\n",
      "/tmp/ipykernel_32829/3288110361.py:6: PerformanceWarning: DataFrame is highly fragmented.  This is usually the result of calling `frame.insert` many times, which has poor performance.  Consider joining all columns at once using pd.concat(axis=1) instead. To get a de-fragmented frame, use `newframe = frame.copy()`\n",
      "  pdf[f'v{y+i}'] = [x['landmarks'][i]['visibility']]\n",
      "/tmp/ipykernel_32829/3288110361.py:3: PerformanceWarning: DataFrame is highly fragmented.  This is usually the result of calling `frame.insert` many times, which has poor performance.  Consider joining all columns at once using pd.concat(axis=1) instead. To get a de-fragmented frame, use `newframe = frame.copy()`\n",
      "  pdf[f'x{y+i}'] = [x['landmarks'][i]['x']]\n",
      "/tmp/ipykernel_32829/3288110361.py:4: PerformanceWarning: DataFrame is highly fragmented.  This is usually the result of calling `frame.insert` many times, which has poor performance.  Consider joining all columns at once using pd.concat(axis=1) instead. To get a de-fragmented frame, use `newframe = frame.copy()`\n",
      "  pdf[f'y{y+i}'] = [x['landmarks'][i]['y']]\n",
      "/tmp/ipykernel_32829/3288110361.py:5: PerformanceWarning: DataFrame is highly fragmented.  This is usually the result of calling `frame.insert` many times, which has poor performance.  Consider joining all columns at once using pd.concat(axis=1) instead. To get a de-fragmented frame, use `newframe = frame.copy()`\n",
      "  pdf[f'z{y+i}'] = [x['landmarks'][i]['z']]\n",
      "/tmp/ipykernel_32829/3288110361.py:6: PerformanceWarning: DataFrame is highly fragmented.  This is usually the result of calling `frame.insert` many times, which has poor performance.  Consider joining all columns at once using pd.concat(axis=1) instead. To get a de-fragmented frame, use `newframe = frame.copy()`\n",
      "  pdf[f'v{y+i}'] = [x['landmarks'][i]['visibility']]\n",
      "/tmp/ipykernel_32829/3288110361.py:3: PerformanceWarning: DataFrame is highly fragmented.  This is usually the result of calling `frame.insert` many times, which has poor performance.  Consider joining all columns at once using pd.concat(axis=1) instead. To get a de-fragmented frame, use `newframe = frame.copy()`\n",
      "  pdf[f'x{y+i}'] = [x['landmarks'][i]['x']]\n",
      "/tmp/ipykernel_32829/3288110361.py:4: PerformanceWarning: DataFrame is highly fragmented.  This is usually the result of calling `frame.insert` many times, which has poor performance.  Consider joining all columns at once using pd.concat(axis=1) instead. To get a de-fragmented frame, use `newframe = frame.copy()`\n",
      "  pdf[f'y{y+i}'] = [x['landmarks'][i]['y']]\n",
      "/tmp/ipykernel_32829/3288110361.py:5: PerformanceWarning: DataFrame is highly fragmented.  This is usually the result of calling `frame.insert` many times, which has poor performance.  Consider joining all columns at once using pd.concat(axis=1) instead. To get a de-fragmented frame, use `newframe = frame.copy()`\n",
      "  pdf[f'z{y+i}'] = [x['landmarks'][i]['z']]\n",
      "/tmp/ipykernel_32829/3288110361.py:6: PerformanceWarning: DataFrame is highly fragmented.  This is usually the result of calling `frame.insert` many times, which has poor performance.  Consider joining all columns at once using pd.concat(axis=1) instead. To get a de-fragmented frame, use `newframe = frame.copy()`\n",
      "  pdf[f'v{y+i}'] = [x['landmarks'][i]['visibility']]\n"
     ]
    }
   ],
   "source": [
    "for i in range(1, 32):\n",
    "    for y in range(0, 3):\n",
    "        pdf[f'x{y+i}'] = [x['landmarks'][i]['x']]\n",
    "        pdf[f'y{y+i}'] = [x['landmarks'][i]['y']]\n",
    "        pdf[f'z{y+i}'] = [x['landmarks'][i]['z']]\n",
    "        pdf[f'v{y+i}'] = [x['landmarks'][i]['visibility']]"
   ]
  },
  {
   "cell_type": "code",
   "execution_count": 65,
   "id": "edca031e",
   "metadata": {},
   "outputs": [
    {
     "data": {
      "text/plain": [
       "(1, 132)"
      ]
     },
     "execution_count": 65,
     "metadata": {},
     "output_type": "execute_result"
    }
   ],
   "source": [
    "pdf.shape"
   ]
  },
  {
   "cell_type": "code",
   "execution_count": null,
   "id": "4e2573bd",
   "metadata": {},
   "outputs": [],
   "source": [
    "flipped_landmarks = []\n",
    "for landmark in landmarks:\n",
    "    flipped_landmark = {}\n",
    "    flipped_landmark['x'] = -landmark['x']\n",
    "    flipped_landmark['y'] = landmark['y']\n",
    "    flipped_landmark['z'] = landmark['z']\n",
    "    flipped_landmark['visibility'] = landmark['visibility']\n",
    "    flipped_landmarks.append(flipped_landmark)\n",
    "landmarks = flipped_landmarks[::-1]"
   ]
  }
 ],
 "metadata": {
  "kernelspec": {
   "display_name": "Python 3 (ipykernel)",
   "language": "python",
   "name": "python3"
  },
  "language_info": {
   "codemirror_mode": {
    "name": "ipython",
    "version": 3
   },
   "file_extension": ".py",
   "mimetype": "text/x-python",
   "name": "python",
   "nbconvert_exporter": "python",
   "pygments_lexer": "ipython3",
   "version": "3.10.6"
  }
 },
 "nbformat": 4,
 "nbformat_minor": 5
}
